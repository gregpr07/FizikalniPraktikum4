{
 "metadata": {
  "language_info": {
   "codemirror_mode": {
    "name": "ipython",
    "version": 3
   },
   "file_extension": ".py",
   "mimetype": "text/x-python",
   "name": "python",
   "nbconvert_exporter": "python",
   "pygments_lexer": "ipython3",
   "version": "3.8.5-final"
  },
  "orig_nbformat": 2,
  "kernelspec": {
   "name": "python3",
   "display_name": "Python 3.8.5 64-bit ('base': conda)",
   "metadata": {
    "interpreter": {
     "hash": "5b0d35776b647d7c5d3751983669306ca1fb35abce51820e0eb219f2e5c3b6d1"
    }
   }
  }
 },
 "nbformat": 4,
 "nbformat_minor": 2,
 "cells": [
  {
   "cell_type": "code",
   "execution_count": 5,
   "metadata": {},
   "outputs": [],
   "source": [
    "from scipy.optimize import curve_fit\n",
    "from scipy import stats\n",
    "import math\n",
    "import matplotlib.pyplot as plt\n",
    "import numpy as np\n",
    "import pandas as pd\n",
    "from IPython.display import display, Image, IFrame, HTML\n",
    "import scipy.constants as const\n",
    "from pylab import rcParams\n",
    "rcParams['figure.figsize'] = 10, 6\n",
    "#from negotovost import Negotovost"
   ]
  },
  {
   "source": [
    "## Za utez ob krogli"
   ],
   "cell_type": "markdown",
   "metadata": {}
  },
  {
   "cell_type": "code",
   "execution_count": 6,
   "metadata": {},
   "outputs": [],
   "source": [
    "r_k = 5.07/2/100\n",
    "# kgm\n",
    "J_33 = 1416 / 1000 / 100**2\n",
    "\n",
    "# kgm\n",
    "J_11_0 = 2820 / 1000 / 100**2\n",
    "\n",
    "# kg\n",
    "m = (512+19+23+19) / 1000\n",
    "# m/s\n",
    "g = 9.81\n",
    "# m\n",
    "l_0 = 0.372 / 100"
   ]
  },
  {
   "cell_type": "code",
   "execution_count": 7,
   "metadata": {},
   "outputs": [
    {
     "output_type": "execute_result",
     "data": {
      "text/plain": [
       "2.5189409926786093"
      ]
     },
     "metadata": {},
     "execution_count": 7
    }
   ],
   "source": [
    "m*g*(l_0 + 0.03315 * 0.039)/(J_33)/79"
   ]
  },
  {
   "cell_type": "code",
   "execution_count": 39,
   "metadata": {},
   "outputs": [],
   "source": [
    "# L v m\n",
    "def precesijska_hitrost(skiprows,nrows,L):\n",
    "    l = l_0 + 0.0332 * (L+r_k)\n",
    "\n",
    "    utez_ob_krogli = pd.read_excel('Vrtavk_meritve.ods',usecols='A:C',skiprows=skiprows,nrows=nrows,names=['freq','1kot','2kot'])\n",
    "\n",
    "    utez_ob_krogli['omega_z'] = utez_ob_krogli['freq'] / 60 * 2 * np.pi\n",
    "    utez_ob_krogli['omega_pr'] = 2*np.pi/((utez_ob_krogli['1kot']+utez_ob_krogli['2kot'])/2)\n",
    "    utez_ob_krogli['omega_z_teor'] = m*g*l/J_33/utez_ob_krogli['omega_z']\n",
    "\n",
    "    average = (utez_ob_krogli['1kot']+utez_ob_krogli['2kot'])/2\n",
    "    utez_ob_krogli['napaka'] = (abs(utez_ob_krogli['2kot']-average)/average*100).astype(int)\n",
    "\n",
    "    header = ['$\\\\nu$ [rpm]','1. kot [1/s]','2. kot [1/s]','$\\omega_z$ [1/s]','$\\omega_{pr}$ [1/s]','$\\omega_{pr}^{teor}$ [1/s]','Napaka [\\%]']\n",
    "\n",
    "    print(r'\\noindent',utez_ob_krogli.to_latex( float_format=\"%.2f\",index=False,header=header,escape=False,decimal=',' ))"
   ]
  },
  {
   "cell_type": "code",
   "execution_count": 40,
   "metadata": {},
   "outputs": [],
   "source": [
    "# L v cm\n",
    "def nutacijska_hitrost(skiprows,nrows,L):\n",
    "    l = l_0 + 0.0332 * (L/100+r_k)\n",
    "    J_11 = J_11_0 + 19 * (L) / 1000 / 100**2\n",
    "\n",
    "    utez_ob_krogli = pd.read_excel('Vrtavk_meritve.ods',usecols='E:F',skiprows=skiprows,nrows=nrows,names=['freq','freq_nu'])\n",
    "\n",
    "    utez_ob_krogli['omega_z'] = utez_ob_krogli['freq'] / 60 * 2 * np.pi\n",
    "    utez_ob_krogli['omega_n'] = utez_ob_krogli['freq_nu'] / 60 * 2 * np.pi\n",
    "    utez_ob_krogli['omega_z_teor'] = J_33/J_11*utez_ob_krogli['omega_z']\n",
    "\n",
    "    header = ['Frekvenca [rpm]','Frekvenca $\\omega_N$ [rpm]','$\\omega_z$ [1/s]','$\\omega_{N}$ [1/s]','$\\omega_{N}^{teor}$ [1/s]']\n",
    "\n",
    "    print(r'\\noindent',utez_ob_krogli.to_latex(float_format=\"%.1f\",index=False,header=header,escape=False,decimal=',' ))"
   ]
  },
  {
   "cell_type": "code",
   "execution_count": 41,
   "metadata": {},
   "outputs": [
    {
     "output_type": "stream",
     "name": "stdout",
     "text": [
      "\\noindent \\begin{tabular}{rrrrr}\n\\toprule\nFrekvenca [rpm] & Frekvenca $\\omega_N$ [rpm] & $\\omega_z$ [1/s] & $\\omega_{N}$ [1/s] & $\\omega_{N}^{teor}$ [1/s] \\\\\n\\midrule\n            830 &                        363 &             86,9 &               38,0 &                      43,6 \\\\\n            996 &                        391 &            104,3 &               40,9 &                      52,4 \\\\\n           1393 &                        644 &            145,9 &               67,4 &                      73,2 \\\\\n\\bottomrule\n\\end{tabular}\n\n"
     ]
    }
   ],
   "source": [
    "nutacijska_hitrost(2,3,0)"
   ]
  },
  {
   "cell_type": "code",
   "execution_count": 42,
   "metadata": {},
   "outputs": [
    {
     "output_type": "stream",
     "name": "stdout",
     "text": [
      "\\noindent \\begin{tabular}{rrrrr}\n\\toprule\nFrekvenca [rpm] & Frekvenca $\\omega_N$ [rpm] & $\\omega_z$ [1/s] & $\\omega_{N}$ [1/s] & $\\omega_{N}^{teor}$ [1/s] \\\\\n\\midrule\n           1220 &                        631 &            127,8 &               66,1 &                      63,5 \\\\\n           1467 &                        709 &            153,6 &               74,2 &                      76,4 \\\\\n            938 &                        480 &             98,2 &               50,3 &                      48,8 \\\\\n\\bottomrule\n\\end{tabular}\n\n"
     ]
    }
   ],
   "source": [
    "nutacijska_hitrost(15,3,1.5)"
   ]
  },
  {
   "cell_type": "code",
   "execution_count": 43,
   "metadata": {},
   "outputs": [
    {
     "output_type": "stream",
     "name": "stdout",
     "text": [
      "\\noindent \\begin{tabular}{rrrrr}\n\\toprule\nFrekvenca [rpm] & Frekvenca $\\omega_N$ [rpm] & $\\omega_z$ [1/s] & $\\omega_{N}$ [1/s] & $\\omega_{N}^{teor}$ [1/s] \\\\\n\\midrule\n            880 &                        439 &             92,2 &               46,0 &                      45,5 \\\\\n            985 &                        496 &            103,1 &               51,9 &                      50,9 \\\\\n           1107 &                        567 &            115,9 &               59,4 &                      57,2 \\\\\n\\bottomrule\n\\end{tabular}\n\n"
     ]
    }
   ],
   "source": [
    "nutacijska_hitrost(26,3,2.5)"
   ]
  },
  {
   "cell_type": "code",
   "execution_count": 44,
   "metadata": {},
   "outputs": [
    {
     "output_type": "stream",
     "name": "stdout",
     "text": [
      "\\noindent \\begin{tabular}{rrrrrrr}\n\\toprule\n$\\nu$ [rpm] & 1. kot [1/s] & 2. kot [1/s] & $\\omega_z$ [1/s] & $\\omega_{pr}$ [1/s] & $\\omega_{pr}^{teor}$ [1/s] & Napaka [\\%] \\\\\n\\midrule\n       1386 &         4,70 &         5,00 &           145,14 &                1,30 &                       1,25 &           3 \\\\\n       1415 &         5,20 &         4,90 &           148,18 &                1,24 &                       1,22 &           2 \\\\\n       1475 &         5,20 &         5,40 &           154,46 &                1,19 &                       1,17 &           1 \\\\\n       1518 &         4,80 &         5,10 &           158,96 &                1,27 &                       1,14 &           3 \\\\\n       1550 &         5,30 &         5,00 &           162,32 &                1,22 &                       1,12 &           2 \\\\\n       1570 &         5,20 &         5,30 &           164,41 &                1,20 &                       1,10 &           0 \\\\\n\\bottomrule\n\\end{tabular}\n\n"
     ]
    }
   ],
   "source": [
    "precesijska_hitrost(3,6,0)"
   ]
  },
  {
   "cell_type": "code",
   "execution_count": 45,
   "metadata": {},
   "outputs": [
    {
     "output_type": "stream",
     "name": "stdout",
     "text": [
      "\\noindent \\begin{tabular}{rrrrrrr}\n\\toprule\n$\\nu$ [rpm] & 1. kot [1/s] & 2. kot [1/s] & $\\omega_z$ [1/s] & $\\omega_{pr}$ [1/s] & $\\omega_{pr}^{teor}$ [1/s] & Napaka [\\%] \\\\\n\\midrule\n       1073 &         3,40 &         3,60 &           112,36 &                1,80 &                       1,79 &           2 \\\\\n       1140 &         3,70 &         3,50 &           119,38 &                1,75 &                       1,68 &           2 \\\\\n       1191 &         3,70 &         3,50 &           124,72 &                1,75 &                       1,61 &           2 \\\\\n       1211 &         3,80 &         3,60 &           126,82 &                1,70 &                       1,58 &           2 \\\\\n\\bottomrule\n\\end{tabular}\n\n"
     ]
    }
   ],
   "source": [
    "precesijska_hitrost(16,4,0.015)"
   ]
  },
  {
   "cell_type": "code",
   "execution_count": 46,
   "metadata": {},
   "outputs": [
    {
     "output_type": "stream",
     "name": "stdout",
     "text": [
      "\\noindent \\begin{tabular}{rrrrrrr}\n\\toprule\n$\\nu$ [rpm] & 1. kot [1/s] & 2. kot [1/s] & $\\omega_z$ [1/s] & $\\omega_{pr}$ [1/s] & $\\omega_{pr}^{teor}$ [1/s] & Napaka [\\%] \\\\\n\\midrule\n       1100 &         2,90 &         3,10 &           115,19 &                2,09 &                       1,86 &           3 \\\\\n       1224 &         3,50 &         3,70 &           128,18 &                1,75 &                       1,67 &           2 \\\\\n       1270 &         3,70 &         3,60 &           132,99 &                1,72 &                       1,61 &           1 \\\\\n       1465 &         4,00 &         4,20 &           153,41 &                1,53 &                       1,40 &           2 \\\\\n\\bottomrule\n\\end{tabular}\n\n"
     ]
    }
   ],
   "source": [
    "precesijska_hitrost(27,4,0.025)"
   ]
  },
  {
   "cell_type": "code",
   "execution_count": null,
   "metadata": {},
   "outputs": [],
   "source": []
  }
 ]
}